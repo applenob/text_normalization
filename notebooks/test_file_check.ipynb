{
 "cells": [
  {
   "cell_type": "code",
   "execution_count": 1,
   "metadata": {
    "collapsed": true
   },
   "outputs": [],
   "source": [
    "import pandas as pd\n",
    "import numpy as np"
   ]
  },
  {
   "cell_type": "code",
   "execution_count": 2,
   "metadata": {
    "collapsed": true
   },
   "outputs": [],
   "source": [
    "test_file_name = \"../input/en_test_2.csv\"\n",
    "test_df = pd.read_csv(test_file_name)"
   ]
  },
  {
   "cell_type": "code",
   "execution_count": 6,
   "metadata": {},
   "outputs": [
    {
     "data": {
      "text/plain": [
       "(2487, 3)"
      ]
     },
     "execution_count": 6,
     "metadata": {},
     "output_type": "execute_result"
    }
   ],
   "source": [
    "dash_df = test_df.loc[test_df[\"before\"] == \"-\"]\n",
    "dash_df.shape"
   ]
  },
  {
   "cell_type": "code",
   "execution_count": 8,
   "metadata": {},
   "outputs": [
    {
     "data": {
      "text/plain": [
       "year                 55\n",
       "1                    36\n",
       "0                    35\n",
       "2                    34\n",
       "2016                 31\n",
       "acre                 30\n",
       "3                    29\n",
       "6                    24\n",
       "\"                    22\n",
       "The                  19\n",
       "17                   19\n",
       "square               18\n",
       "16                   17\n",
       "century              17\n",
       "X                    16\n",
       "10                   15\n",
       "inch                 13\n",
       "8                    13\n",
       "2015                 12\n",
       "minute               12\n",
       "2011                 12\n",
       "14                   12\n",
       "15                   12\n",
       "bit                  11\n",
       "A                    11\n",
       "2005                 11\n",
       "12                   11\n",
       "2014                 10\n",
       "18                   10\n",
       "11                   10\n",
       "                     ..\n",
       "1802                  1\n",
       "2648.2010             1\n",
       "916                   1\n",
       "SPANDeception         1\n",
       "322                   1\n",
       "inspired              1\n",
       "OPTN-                 1\n",
       "Head                  1\n",
       "72                    1\n",
       "366                   1\n",
       "card                  1\n",
       "course                1\n",
       "Jewish                1\n",
       "theartsdesk.com       1\n",
       "genetic               1\n",
       "Kizna                 1\n",
       "ה                     1\n",
       "km/h                  1\n",
       "Rosh                  1\n",
       "NOLA                  1\n",
       "recorded              1\n",
       "December 30, 2016     1\n",
       "May 3, 2011           1\n",
       "б                     1\n",
       "58                    1\n",
       "11pm                  1\n",
       "1855                  1\n",
       "1969                  1\n",
       "1480                  1\n",
       "413                   1\n",
       "Name: before, Length: 1224, dtype: int64"
      ]
     },
     "execution_count": 8,
     "metadata": {},
     "output_type": "execute_result"
    }
   ],
   "source": [
    "test_df.loc[dash_df.index + 1][\"before\"].value_counts()"
   ]
  },
  {
   "cell_type": "code",
   "execution_count": 9,
   "metadata": {},
   "outputs": [
    {
     "data": {
      "text/plain": [
       ")                   80\n",
       "1                   78\n",
       "2                   55\n",
       "3                   48\n",
       "4                   37\n",
       "5                   35\n",
       "6                   35\n",
       "2016                28\n",
       "10                  25\n",
       "2015                23\n",
       "13                  20\n",
       "X                   19\n",
       "\"                   19\n",
       "20                  18\n",
       "12                  18\n",
       "0                   17\n",
       "D                   17\n",
       "16                  16\n",
       "2002                16\n",
       "40                  16\n",
       "15                  16\n",
       "7                   15\n",
       "2010                15\n",
       "B                   15\n",
       "K                   15\n",
       "2011                15\n",
       "14                  14\n",
       "17                  14\n",
       "G                   14\n",
       "2013                13\n",
       "                    ..\n",
       "1-58435-187          1\n",
       "1730                 1\n",
       "Hours                1\n",
       "Cb                   1\n",
       "719                  1\n",
       "news                 1\n",
       "first                1\n",
       "326                  1\n",
       "129                  1\n",
       "1957                 1\n",
       "Plaque               1\n",
       "113                  1\n",
       "naturally            1\n",
       "394                  1\n",
       "Lt                   1\n",
       "239                  1\n",
       "October 24, 1932     1\n",
       "76                   1\n",
       "1401                 1\n",
       "281                  1\n",
       "IBGE                 1\n",
       "role-playing         1\n",
       "Concept              1\n",
       "1-4662-0043          1\n",
       "369                  1\n",
       "Homepage             1\n",
       "Company              1\n",
       "1660                 1\n",
       "1982                 1\n",
       "1853                 1\n",
       "Name: before, Length: 974, dtype: int64"
      ]
     },
     "execution_count": 9,
     "metadata": {},
     "output_type": "execute_result"
    }
   ],
   "source": [
    "test_df.loc[dash_df.index - 1][\"before\"].value_counts()"
   ]
  },
  {
   "cell_type": "code",
   "execution_count": null,
   "metadata": {
    "collapsed": true
   },
   "outputs": [],
   "source": []
  }
 ],
 "metadata": {
  "kernelspec": {
   "display_name": "Python [conda env:py35]",
   "language": "python",
   "name": "conda-env-py35-py"
  },
  "language_info": {
   "codemirror_mode": {
    "name": "ipython",
    "version": 3
   },
   "file_extension": ".py",
   "mimetype": "text/x-python",
   "name": "python",
   "nbconvert_exporter": "python",
   "pygments_lexer": "ipython3",
   "version": "3.5.4"
  }
 },
 "nbformat": 4,
 "nbformat_minor": 2
}
