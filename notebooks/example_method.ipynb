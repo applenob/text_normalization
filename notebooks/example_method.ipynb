{
 "cells": [
  {
   "cell_type": "markdown",
   "metadata": {},
   "source": [
    "# Example Method"
   ]
  },
  {
   "cell_type": "code",
   "execution_count": 1,
   "metadata": {},
   "outputs": [
    {
     "name": "stderr",
     "output_type": "stream",
     "text": [
      "/home/cer/anaconda2/lib/python2.7/site-packages/sklearn/cross_validation.py:41: DeprecationWarning: This module was deprecated in version 0.18 in favor of the model_selection module into which all the refactored classes and functions are moved. Also note that the interface of the new CV iterators are different from that of this module. This module will be removed in 0.20.\n",
      "  \"This module will be removed in 0.20.\", DeprecationWarning)\n"
     ]
    }
   ],
   "source": [
    "import pandas as pd\n",
    "import numpy as np\n",
    "import os\n",
    "import pickle\n",
    "import gc\n",
    "import xgboost as xgb\n",
    "import re\n",
    "from sklearn.model_selection import train_test_split"
   ]
  },
  {
   "cell_type": "code",
   "execution_count": 2,
   "metadata": {
    "collapsed": true
   },
   "outputs": [],
   "source": [
    "max_num_features = 10\n",
    "pad_size = 1\n",
    "boundary_letter = -1\n",
    "space_letter = 0\n",
    "# max_data_size = 320000"
   ]
  },
  {
   "cell_type": "code",
   "execution_count": 4,
   "metadata": {},
   "outputs": [],
   "source": [
    "train_df = pd.read_csv('../input/en_train.csv')\n",
    "test_df = pd.read_csv('../input/en_test.csv')\n",
    "sample_df = pd.read_csv('../input/en_sample_submission.csv')"
   ]
  },
  {
   "cell_type": "code",
   "execution_count": 7,
   "metadata": {},
   "outputs": [
    {
     "data": {
      "text/plain": [
       "array([0, 0, 0, 0, 0, 0, 0, 0, 0, 1, 2, 3, 0, 0, 0, 0, 0, 1, 0, 0, 0, 0, 0,\n",
       "       0, 0, 1, 0, 0, 1, 0, 0, 1, 0, 1, 0, 0, 1, 0, 0, 1, 0, 0, 0, 1, 0, 0,\n",
       "       0, 0, 0, 0])"
      ]
     },
     "execution_count": 7,
     "metadata": {},
     "output_type": "execute_result"
    }
   ],
   "source": [
    "y_data[:50]"
   ]
  },
  {
   "cell_type": "code",
   "execution_count": 9,
   "metadata": {},
   "outputs": [
    {
     "data": {
      "text/plain": [
       "array(['PLAIN', 'PUNCT', 'DATE', 'LETTERS', 'CARDINAL', 'VERBATIM',\n",
       "       'DECIMAL', 'MEASURE', 'MONEY', 'ORDINAL', 'TIME', 'ELECTRONIC',\n",
       "       'DIGIT', 'FRACTION', 'TELEPHONE', 'ADDRESS'], dtype=object)"
      ]
     },
     "execution_count": 9,
     "metadata": {},
     "output_type": "execute_result"
    }
   ],
   "source": [
    "labels = train_df[\"class\"].unique()\n",
    "labels"
   ]
  },
  {
   "cell_type": "code",
   "execution_count": 11,
   "metadata": {},
   "outputs": [
    {
     "data": {
      "text/plain": [
       "{'ADDRESS': 15,\n",
       " 'CARDINAL': 4,\n",
       " 'DATE': 2,\n",
       " 'DECIMAL': 6,\n",
       " 'DIGIT': 12,\n",
       " 'ELECTRONIC': 11,\n",
       " 'FRACTION': 13,\n",
       " 'LETTERS': 3,\n",
       " 'MEASURE': 7,\n",
       " 'MONEY': 8,\n",
       " 'ORDINAL': 9,\n",
       " 'PLAIN': 0,\n",
       " 'PUNCT': 1,\n",
       " 'TELEPHONE': 14,\n",
       " 'TIME': 10,\n",
       " 'VERBATIM': 5}"
      ]
     },
     "execution_count": 11,
     "metadata": {},
     "output_type": "execute_result"
    }
   ],
   "source": [
    "class2index = dict(zip(labels, range(len(labels))))\n",
    "class2index"
   ]
  },
  {
   "cell_type": "code",
   "execution_count": 18,
   "metadata": {
    "scrolled": true
   },
   "outputs": [
    {
     "data": {
      "text/plain": [
       "{'ADDRESS': 1,\n",
       " 'CARDINAL': 1,\n",
       " 'DATE': 1,\n",
       " 'DECIMAL': 1,\n",
       " 'DIGIT': 1,\n",
       " 'ELECTRONIC': 1,\n",
       " 'FRACTION': 1,\n",
       " 'LETTERS': 1,\n",
       " 'MEASURE': 1,\n",
       " 'MONEY': 1,\n",
       " 'ORDINAL': 1,\n",
       " 'PLAIN': 0,\n",
       " 'PUNCT': 0,\n",
       " 'TELEPHONE': 1,\n",
       " 'TIME': 1,\n",
       " 'VERBATIM': 1}"
      ]
     },
     "execution_count": 18,
     "metadata": {},
     "output_type": "execute_result"
    }
   ],
   "source": [
    "for k in class2index:\n",
    "    if k in [\"PLAIN\", \"PUNCT\"]:\n",
    "        class2index[k] = 0\n",
    "    else:\n",
    "        class2index[k] = 1\n",
    "class2index"
   ]
  },
  {
   "cell_type": "code",
   "execution_count": 19,
   "metadata": {},
   "outputs": [],
   "source": [
    "y_data = np.array(map(lambda x: class2index[x], train_df['class'].values))"
   ]
  },
  {
   "cell_type": "code",
   "execution_count": 16,
   "metadata": {},
   "outputs": [
    {
     "data": {
      "text/plain": [
       "array([0, 0, 0, 0, 0, 0, 0, 0, 0, 1, 2, 3, 0, 0, 0, 0, 0, 1, 0, 0, 0, 0, 0,\n",
       "       0, 0, 1, 0, 0, 1, 0, 0, 1, 0, 1, 0, 0, 1, 0, 0, 1, 0, 0, 0, 1, 0, 0,\n",
       "       0, 0, 0, 0])"
      ]
     },
     "execution_count": 16,
     "metadata": {},
     "output_type": "execute_result"
    }
   ],
   "source": [
    "y_data[:50]"
   ]
  },
  {
   "cell_type": "code",
   "execution_count": null,
   "metadata": {
    "collapsed": true
   },
   "outputs": [],
   "source": [
    "y_data =  pd.factorize(train_df['class'])"
   ]
  },
  {
   "cell_type": "code",
   "execution_count": 5,
   "metadata": {
    "collapsed": true
   },
   "outputs": [],
   "source": [
    "x_data = []\n",
    "# 将类别数字化\n",
    "y_data =  pd.factorize(train_df['class'])\n",
    "labels = y_data[1]\n",
    "y_data = y_data[0]\n",
    "gc.collect()\n",
    "# 每个目标词用组成这个词的所有字符的ascii码表示，并padding\n",
    "for x in train_df['before'].values:\n",
    "    x_row = np.ones(max_num_features, dtype=int) * space_letter\n",
    "    for xi, i in zip(list(str(x)), np.arange(max_num_features)):\n",
    "        x_row[i] = ord(xi)\n",
    "    x_data.append(x_row)"
   ]
  },
  {
   "cell_type": "code",
   "execution_count": 5,
   "metadata": {},
   "outputs": [
    {
     "data": {
      "text/plain": [
       "[array([ 66, 114, 105, 108, 108,  97, 110, 116,  97, 105]),\n",
       " array([105, 115,   0,   0,   0,   0,   0,   0,   0,   0]),\n",
       " array([97,  0,  0,  0,  0,  0,  0,  0,  0,  0]),\n",
       " array([103, 101, 110, 117, 115,   0,   0,   0,   0,   0]),\n",
       " array([111, 102,   0,   0,   0,   0,   0,   0,   0,   0]),\n",
       " array([112, 108,  97, 110, 116,   0,   0,   0,   0,   0]),\n",
       " array([105, 110,   0,   0,   0,   0,   0,   0,   0,   0]),\n",
       " array([102,  97, 109, 105, 108, 121,   0,   0,   0,   0]),\n",
       " array([ 65,  99,  97, 110, 116, 104,  97,  99, 101,  97]),\n",
       " array([46,  0,  0,  0,  0,  0,  0,  0,  0,  0])]"
      ]
     },
     "execution_count": 5,
     "metadata": {},
     "output_type": "execute_result"
    }
   ],
   "source": [
    "x_data[:10]"
   ]
  },
  {
   "cell_type": "code",
   "execution_count": 6,
   "metadata": {},
   "outputs": [
    {
     "data": {
      "text/plain": [
       "7"
      ]
     },
     "execution_count": 6,
     "metadata": {},
     "output_type": "execute_result"
    }
   ],
   "source": [
    "del train_df\n",
    "gc.collect()"
   ]
  },
  {
   "cell_type": "code",
   "execution_count": 20,
   "metadata": {
    "collapsed": true
   },
   "outputs": [],
   "source": [
    "def context_window_transform(data, pad_size):\n",
    "    \"\"\"每个词加上前面一个和后面一个词，中间用-1隔开\"\"\"\n",
    "    pre = np.zeros(max_num_features)\n",
    "    pre = [pre for x in np.arange(pad_size)]\n",
    "    data = pre + data + pre\n",
    "    neo_data = []\n",
    "    for i in np.arange(len(data) - pad_size * 2):\n",
    "        row = []\n",
    "        for x in data[i : i + pad_size * 2 + 1]:\n",
    "            row += [boundary_letter]\n",
    "            row += x.tolist()\n",
    "        row += [boundary_letter]\n",
    "        neo_data.append(row)\n",
    "    return neo_data"
   ]
  },
  {
   "cell_type": "code",
   "execution_count": 21,
   "metadata": {
    "collapsed": true
   },
   "outputs": [],
   "source": [
    "# x_data = x_data[:max_data_size]\n",
    "# y_data = y_data[:max_data_size]\n",
    "x_data_context = np.array(context_window_transform(x_data, pad_size))"
   ]
  },
  {
   "cell_type": "code",
   "execution_count": 19,
   "metadata": {},
   "outputs": [
    {
     "data": {
      "text/plain": [
       "array([[  -1.,    0.,    0.,    0.,    0.,    0.,    0.,    0.,    0.,\n",
       "           0.,    0.,   -1.,   66.,  114.,  105.,  108.,  108.,   97.,\n",
       "         110.,  116.,   97.,  105.,   -1.,  105.,  115.,    0.,    0.,\n",
       "           0.,    0.,    0.,    0.,    0.,    0.,   -1.],\n",
       "       [  -1.,   66.,  114.,  105.,  108.,  108.,   97.,  110.,  116.,\n",
       "          97.,  105.,   -1.,  105.,  115.,    0.,    0.,    0.,    0.,\n",
       "           0.,    0.,    0.,    0.,   -1.,   97.,    0.,    0.,    0.,\n",
       "           0.,    0.,    0.,    0.,    0.,    0.,   -1.],\n",
       "       [  -1.,  105.,  115.,    0.,    0.,    0.,    0.,    0.,    0.,\n",
       "           0.,    0.,   -1.,   97.,    0.,    0.,    0.,    0.,    0.,\n",
       "           0.,    0.,    0.,    0.,   -1.,  103.,  101.,  110.,  117.,\n",
       "         115.,    0.,    0.,    0.,    0.,    0.,   -1.],\n",
       "       [  -1.,   97.,    0.,    0.,    0.,    0.,    0.,    0.,    0.,\n",
       "           0.,    0.,   -1.,  103.,  101.,  110.,  117.,  115.,    0.,\n",
       "           0.,    0.,    0.,    0.,   -1.,  111.,  102.,    0.,    0.,\n",
       "           0.,    0.,    0.,    0.,    0.,    0.,   -1.],\n",
       "       [  -1.,  103.,  101.,  110.,  117.,  115.,    0.,    0.,    0.,\n",
       "           0.,    0.,   -1.,  111.,  102.,    0.,    0.,    0.,    0.,\n",
       "           0.,    0.,    0.,    0.,   -1.,  112.,  108.,   97.,  110.,\n",
       "         116.,    0.,    0.,    0.,    0.,    0.,   -1.],\n",
       "       [  -1.,  111.,  102.,    0.,    0.,    0.,    0.,    0.,    0.,\n",
       "           0.,    0.,   -1.,  112.,  108.,   97.,  110.,  116.,    0.,\n",
       "           0.,    0.,    0.,    0.,   -1.,  105.,  110.,    0.,    0.,\n",
       "           0.,    0.,    0.,    0.,    0.,    0.,   -1.],\n",
       "       [  -1.,  112.,  108.,   97.,  110.,  116.,    0.,    0.,    0.,\n",
       "           0.,    0.,   -1.,  105.,  110.,    0.,    0.,    0.,    0.,\n",
       "           0.,    0.,    0.,    0.,   -1.,  102.,   97.,  109.,  105.,\n",
       "         108.,  121.,    0.,    0.,    0.,    0.,   -1.],\n",
       "       [  -1.,  105.,  110.,    0.,    0.,    0.,    0.,    0.,    0.,\n",
       "           0.,    0.,   -1.,  102.,   97.,  109.,  105.,  108.,  121.,\n",
       "           0.,    0.,    0.,    0.,   -1.,   65.,   99.,   97.,  110.,\n",
       "         116.,  104.,   97.,   99.,  101.,   97.,   -1.],\n",
       "       [  -1.,  102.,   97.,  109.,  105.,  108.,  121.,    0.,    0.,\n",
       "           0.,    0.,   -1.,   65.,   99.,   97.,  110.,  116.,  104.,\n",
       "          97.,   99.,  101.,   97.,   -1.,   46.,    0.,    0.,    0.,\n",
       "           0.,    0.,    0.,    0.,    0.,    0.,   -1.],\n",
       "       [  -1.,   65.,   99.,   97.,  110.,  116.,  104.,   97.,   99.,\n",
       "         101.,   97.,   -1.,   46.,    0.,    0.,    0.,    0.,    0.,\n",
       "           0.,    0.,    0.,    0.,   -1.,    0.,    0.,    0.,    0.,\n",
       "           0.,    0.,    0.,    0.,    0.,    0.,   -1.]])"
      ]
     },
     "execution_count": 19,
     "metadata": {},
     "output_type": "execute_result"
    }
   ],
   "source": [
    "x_data_context[:10]"
   ]
  },
  {
   "cell_type": "code",
   "execution_count": 22,
   "metadata": {},
   "outputs": [
    {
     "data": {
      "text/plain": [
       "0"
      ]
     },
     "execution_count": 22,
     "metadata": {},
     "output_type": "execute_result"
    }
   ],
   "source": [
    "del x_data\n",
    "gc.collect()"
   ]
  },
  {
   "cell_type": "code",
   "execution_count": 23,
   "metadata": {},
   "outputs": [
    {
     "name": "stdout",
     "output_type": "stream",
     "text": [
      "('Total number of samples:', 9918441)\n",
      "x_data sample:\n",
      "[  -1.    0.    0.    0.    0.    0.    0.    0.    0.    0.    0.   -1.\n",
      "   66.  114.  105.  108.  108.   97.  110.  116.   97.  105.   -1.  105.\n",
      "  115.    0.    0.    0.    0.    0.    0.    0.    0.   -1.]\n",
      "y_data sample:\n",
      "0\n",
      "labels:\n",
      "Index([u'PLAIN', u'PUNCT', u'DATE', u'LETTERS', u'CARDINAL', u'VERBATIM',\n",
      "       u'DECIMAL', u'MEASURE', u'MONEY', u'ORDINAL', u'TIME', u'ELECTRONIC',\n",
      "       u'DIGIT', u'FRACTION', u'TELEPHONE', u'ADDRESS'],\n",
      "      dtype='object')\n"
     ]
    }
   ],
   "source": [
    "x_data_context_a = np.array(x_data_context)\n",
    "y_data_a = np.array(y_data)\n",
    "\n",
    "print('Total number of samples:', len(x_data_context))\n",
    "\n",
    "print('x_data sample:')\n",
    "print(x_data_context[0])\n",
    "print('y_data sample:')\n",
    "print(y_data[0])\n",
    "print('labels:')\n",
    "print(labels)"
   ]
  },
  {
   "cell_type": "code",
   "execution_count": 25,
   "metadata": {},
   "outputs": [
    {
     "data": {
      "text/plain": [
       "0"
      ]
     },
     "execution_count": 25,
     "metadata": {},
     "output_type": "execute_result"
    }
   ],
   "source": [
    "del x_data_context\n",
    "del y_data\n",
    "gc.collect()"
   ]
  },
  {
   "cell_type": "code",
   "execution_count": 26,
   "metadata": {
    "collapsed": true
   },
   "outputs": [],
   "source": [
    "x_train, x_valid, y_train, y_valid= train_test_split(x_data_context_a, y_data_a,\n",
    "                                                      test_size=0.1, random_state=2017)"
   ]
  },
  {
   "cell_type": "code",
   "execution_count": 27,
   "metadata": {},
   "outputs": [
    {
     "data": {
      "text/plain": [
       "0"
      ]
     },
     "execution_count": 27,
     "metadata": {},
     "output_type": "execute_result"
    }
   ],
   "source": [
    "del x_data_context_a\n",
    "del y_data_a\n",
    "gc.collect()"
   ]
  },
  {
   "cell_type": "code",
   "execution_count": 28,
   "metadata": {
    "collapsed": true
   },
   "outputs": [],
   "source": [
    "num_class = len(labels)\n",
    "dtrain = xgb.DMatrix(x_train, label=y_train)\n",
    "dvalid = xgb.DMatrix(x_valid, label=y_valid)\n",
    "watchlist = [(dvalid, 'valid'), (dtrain, 'train')]"
   ]
  },
  {
   "cell_type": "code",
   "execution_count": 29,
   "metadata": {},
   "outputs": [
    {
     "data": {
      "text/plain": [
       "14"
      ]
     },
     "execution_count": 29,
     "metadata": {},
     "output_type": "execute_result"
    }
   ],
   "source": [
    "del x_train\n",
    "del y_train\n",
    "gc.collect()"
   ]
  },
  {
   "cell_type": "code",
   "execution_count": null,
   "metadata": {},
   "outputs": [
    {
     "name": "stdout",
     "output_type": "stream",
     "text": [
      "[0]\tvalid-merror:0.009588\ttrain-merror:0.009344\n",
      "Multiple eval metrics have been passed: 'train-merror' will be used for early stopping.\n",
      "\n",
      "Will train until train-merror hasn't improved in 20 rounds.\n"
     ]
    }
   ],
   "source": [
    "param = {'objective':'multi:softmax',\n",
    "         'eta':'0.3', 'max_depth':10,\n",
    "         'silent':1, 'nthread':-1,\n",
    "         'num_class':num_class,\n",
    "         'eval_metric':'merror'}\n",
    "model = xgb.train(param, dtrain, 50, watchlist, early_stopping_rounds=20,\n",
    "                  verbose_eval=10)"
   ]
  },
  {
   "cell_type": "code",
   "execution_count": null,
   "metadata": {
    "collapsed": true
   },
   "outputs": [],
   "source": [
    "pred = model.predict(dvalid)\n",
    "pred = [labels[int(x)] for x in pred]\n",
    "y_valid = [labels[x] for x in y_valid]\n",
    "x_valid = [ [ chr(x) for x in y[2 + max_num_features: 2 + max_num_features * 2]] for y in x_valid]\n",
    "x_valid = [''.join(x) for x in x_valid]\n",
    "x_valid = [re.sub('a+$', '', x) for x in x_valid]"
   ]
  },
  {
   "cell_type": "code",
   "execution_count": null,
   "metadata": {
    "collapsed": true
   },
   "outputs": [],
   "source": [
    "gc.collect()\n",
    "\n",
    "df_pred = pd.DataFrame(columns=['data', 'predict', 'target'])\n",
    "df_pred['data'] = x_valid\n",
    "df_pred['predict'] = pred\n",
    "df_pred['target'] = y_valid\n",
    "df_pred.to_csv(os.path.join(out_path, 'pred.csv'))\n",
    "\n",
    "df_erros = df_pred.loc[df_pred['predict'] != df_pred['target']]\n",
    "df_erros.to_csv(os.path.join(out_path, 'errors.csv'), index=False)\n",
    "\n",
    "model.save_model(os.path.join(out_path, 'xgb_model'))"
   ]
  }
 ],
 "metadata": {
  "kernelspec": {
   "display_name": "Python [default]",
   "language": "python",
   "name": "python2"
  },
  "language_info": {
   "codemirror_mode": {
    "name": "ipython",
    "version": 2
   },
   "file_extension": ".py",
   "mimetype": "text/x-python",
   "name": "python",
   "nbconvert_exporter": "python",
   "pygments_lexer": "ipython2",
   "version": "2.7.14"
  }
 },
 "nbformat": 4,
 "nbformat_minor": 2
}
